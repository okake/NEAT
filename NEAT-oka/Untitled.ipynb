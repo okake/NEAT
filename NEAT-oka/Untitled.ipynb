{
 "cells": [
  {
   "cell_type": "code",
   "execution_count": 4,
   "id": "d6d176fa-3a07-4f5e-9db9-6796e0e68e08",
   "metadata": {},
   "outputs": [
    {
     "name": "stdout",
     "output_type": "stream",
     "text": [
      "Finished after 19 timesteps\n"
     ]
    }
   ],
   "source": [
    "from genome import DefaultGenome\n",
    "from speciation import DefaultSpeciesSet\n",
    "from feedforward import FeedForwardNetwork\n",
    "from reproduction import DefaultReproduction\n",
    "\n",
    "pop_size = 300\n",
    "generation = 0\n",
    "\n",
    "num_inputs = 2\n",
    "num_outputs = 1\n",
    "\n",
    "xor_inputs = [(0.0,0.0),(0.0,1.0),(1.0,0.0),(1.0,1.0)]\n",
    "xor_outputs = [(0.0,),(1.0,),(1.0,),(0.0,)]\n",
    "\n",
    "fitness_threshold = 3.999\n",
    "best_genome = None\n",
    "\n",
    "population = DefaultGenome.create_new(DefaultGenome, pop_size)\n",
    "species = DefaultSpeciesSet()\n",
    "\n",
    "while 1:\n",
    "    species.speciate(population,generation)\n",
    "    FeedForwardNetwork.eval_genomes(list(population.items()))\n",
    "    \n",
    "    best = None\n",
    "    for g in population.values():\n",
    "        if best is None or best.fitness < g.fitness:\n",
    "            best = g\n",
    "            \n",
    "    if best_genome is None or best.fitness > best_genome.fitness:\n",
    "        best_genome = best\n",
    "        \n",
    "    fv = max(g.fitness for g in population.values())\n",
    "    if fv >= fitness_threshold:\n",
    "        print('\\nBest individual in generation {0} meets fitness threshold - complexity: {1!r}'.format(generation, best.size()))\n",
    "        break\n",
    "        \n",
    "    popus = DefaultReproduction(num_inputs,num_outputs)\n",
    "    population = popus.reproduce(species,pop_size,generation)\n",
    "    \n",
    "    generation += 1\n",
    "    \n",
    "winner = best_genome\n",
    "print('\\nBest genome:\\n{!s}'.format(winner))\n",
    "print('\\nOutput:')\n",
    "winner_net = FeedForwardNetwork.create(winner)\n",
    "for xi, xo in zip(xor_inputs, xor_outputs):\n",
    "    output = winner_net.activate(xi)\n",
    "    print(\"  input {!r}, expected output {!r}, got {!r}\".format(xi, xo, output))"
   ]
  },
  {
   "cell_type": "code",
   "execution_count": null,
   "id": "19927e55-450d-4095-8613-3f3ec3eb4a85",
   "metadata": {},
   "outputs": [],
   "source": []
  }
 ],
 "metadata": {
  "kernelspec": {
   "display_name": "Python 3 (ipykernel)",
   "language": "python",
   "name": "python3"
  },
  "language_info": {
   "codemirror_mode": {
    "name": "ipython",
    "version": 3
   },
   "file_extension": ".py",
   "mimetype": "text/x-python",
   "name": "python",
   "nbconvert_exporter": "python",
   "pygments_lexer": "ipython3",
   "version": "3.9.12"
  }
 },
 "nbformat": 4,
 "nbformat_minor": 5
}
