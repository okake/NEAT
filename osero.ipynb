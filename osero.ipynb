{
 "cells": [
  {
   "cell_type": "code",
   "execution_count": null,
   "id": "e0961b82-57f6-4f4a-950c-6b3001d1c4cf",
   "metadata": {},
   "outputs": [],
   "source": [
    "import numpy as np\n",
    "import Board from osero\n",
    "\n",
    "empty = 0\n",
    "white = -1\n",
    "black = 1\n",
    "wall = 2\n",
    "\n",
    "board_size = 8\n",
    "\n",
    "none = 0\n",
    "left = 2**0 # =1\n",
    "upper_left = 2**1 # =2 \n",
    "upper = 2**2 # =4\n",
    "upper_right = 2**3 # =8\n",
    "right = 2**4 # =16\n",
    "lower_right = 2**5 # =32\n",
    "lower = 2**6 # =64\n",
    "lower_left = 2**7 # =128\n",
    "\n",
    "IN_ALPHABET = ['a', 'b', 'c', 'd', 'e', 'f', 'g', 'h']\n",
    "IN_NUMBER = ['1', '2', '3', '4', '5', '6', '7', '8']\n",
    "\n",
    "MAX_TURNS = 60\n",
    "\n",
    "noard = Board()\n"
   ]
  }
 ],
 "metadata": {
  "kernelspec": {
   "display_name": "Python 3 (ipykernel)",
   "language": "python",
   "name": "python3"
  },
  "language_info": {
   "codemirror_mode": {
    "name": "ipython",
    "version": 3
   },
   "file_extension": ".py",
   "mimetype": "text/x-python",
   "name": "python",
   "nbconvert_exporter": "python",
   "pygments_lexer": "ipython3",
   "version": "3.9.12"
  }
 },
 "nbformat": 4,
 "nbformat_minor": 5
}
