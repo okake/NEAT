{
 "cells": [
  {
   "cell_type": "code",
   "execution_count": 2,
   "id": "c42d1f53-b00c-441c-99c9-29c3130f22f2",
   "metadata": {},
   "outputs": [
    {
     "ename": "NameError",
     "evalue": "name 'self' is not defined",
     "output_type": "error",
     "traceback": [
      "\u001b[1;31m---------------------------------------------------------------------------\u001b[0m",
      "\u001b[1;31mNameError\u001b[0m                                 Traceback (most recent call last)",
      "Input \u001b[1;32mIn [2]\u001b[0m, in \u001b[0;36m<cell line: 18>\u001b[1;34m()\u001b[0m\n\u001b[0;32m     18\u001b[0m \u001b[38;5;28;01mwhile\u001b[39;00m generation \u001b[38;5;241m!=\u001b[39m \u001b[38;5;241m10\u001b[39m:\n\u001b[0;32m     19\u001b[0m     species\u001b[38;5;241m.\u001b[39mspeciate(population,generation)\n\u001b[1;32m---> 20\u001b[0m     \u001b[43mFeedForwardNetwork\u001b[49m\u001b[38;5;241;43m.\u001b[39;49m\u001b[43meval_genomes\u001b[49m\u001b[43m(\u001b[49m\u001b[38;5;28;43mlist\u001b[39;49m\u001b[43m(\u001b[49m\u001b[43mpopulation\u001b[49m\u001b[38;5;241;43m.\u001b[39;49m\u001b[43mitems\u001b[49m\u001b[43m(\u001b[49m\u001b[43m)\u001b[49m\u001b[43m)\u001b[49m\u001b[43m,\u001b[49m\u001b[43mnum_inputs\u001b[49m\u001b[43m,\u001b[49m\u001b[43mnum_outputs\u001b[49m\u001b[43m)\u001b[49m\n\u001b[0;32m     22\u001b[0m     best \u001b[38;5;241m=\u001b[39m \u001b[38;5;28;01mNone\u001b[39;00m\n\u001b[0;32m     23\u001b[0m     \u001b[38;5;28;01mfor\u001b[39;00m g \u001b[38;5;129;01min\u001b[39;00m population\u001b[38;5;241m.\u001b[39mvalues():\n",
      "File \u001b[1;32m~\\NEAT-oka\\feedforward_cartpole.py:20\u001b[0m, in \u001b[0;36mFeedForwardNetwork.eval_genomes\u001b[1;34m(genomes, num_inputs, num_outputs)\u001b[0m\n\u001b[0;32m     18\u001b[0m genome\u001b[38;5;241m.\u001b[39mfitness \u001b[38;5;241m=\u001b[39m \u001b[38;5;241m0\u001b[39m\n\u001b[0;32m     19\u001b[0m net \u001b[38;5;241m=\u001b[39m FeedForwardNetwork\u001b[38;5;241m.\u001b[39mcreate(genome,num_inputs,num_outputs)\n\u001b[1;32m---> 20\u001b[0m observation \u001b[38;5;241m=\u001b[39m \u001b[38;5;28;43mself\u001b[39;49m\u001b[38;5;241m.\u001b[39menv\u001b[38;5;241m.\u001b[39mreset()\n\u001b[0;32m     21\u001b[0m \u001b[38;5;28;01mfor\u001b[39;00m t \u001b[38;5;129;01min\u001b[39;00m \u001b[38;5;28mrange\u001b[39m(\u001b[38;5;241m1000\u001b[39m):\n\u001b[0;32m     22\u001b[0m     observation, reward, done, info \u001b[38;5;241m=\u001b[39m env\u001b[38;5;241m.\u001b[39mstep(net\u001b[38;5;241m.\u001b[39mactivate(observation\u001b[38;5;241m.\u001b[39mtolist()))\n",
      "\u001b[1;31mNameError\u001b[0m: name 'self' is not defined"
     ]
    }
   ],
   "source": [
    "from genome_cartpole import DefaultGenome\n",
    "from speciation import DefaultSpeciesSet\n",
    "from feedforward_cartpole import FeedForwardNetwork\n",
    "from reproduction import DefaultReproduction\n",
    "import numpy as np\n",
    "\n",
    "pop_size = 150\n",
    "generation = 0\n",
    "\n",
    "num_inputs = 4\n",
    "num_outputs = 2\n",
    "\n",
    "best_genome = None\n",
    "\n",
    "population = DefaultGenome.create_new(DefaultGenome, pop_size,num_inputs,num_outputs)\n",
    "species = DefaultSpeciesSet()\n",
    "\n",
    "while generation != 10:\n",
    "    species.speciate(population,generation)\n",
    "    FeedForwardNetwork.eval_genomes(list(population.items()),num_inputs,num_outputs)\n",
    "    \n",
    "    best = None\n",
    "    for g in population.values():\n",
    "        if best is None or best.fitness < g.fitness:\n",
    "            best = g\n",
    "            \n",
    "    if best_genome is None or best.fitness > best_genome.fitness:\n",
    "        best_genome = best\n",
    "        \n",
    "    fv = max(g.fitness for g in population.values())\n",
    "        \n",
    "    popus = DefaultReproduction(num_inputs,num_outputs)\n",
    "    population = popus.reproduce(species,pop_size,generation)\n",
    "    \n",
    "    generation += 1"
   ]
  },
  {
   "cell_type": "code",
   "execution_count": null,
   "id": "8c462756-496f-4a39-953b-1fe22ea60229",
   "metadata": {},
   "outputs": [],
   "source": []
  }
 ],
 "metadata": {
  "kernelspec": {
   "display_name": "Python 3 (ipykernel)",
   "language": "python",
   "name": "python3"
  },
  "language_info": {
   "codemirror_mode": {
    "name": "ipython",
    "version": 3
   },
   "file_extension": ".py",
   "mimetype": "text/x-python",
   "name": "python",
   "nbconvert_exporter": "python",
   "pygments_lexer": "ipython3",
   "version": "3.9.12"
  }
 },
 "nbformat": 4,
 "nbformat_minor": 5
}
