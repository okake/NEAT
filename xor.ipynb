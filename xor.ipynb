{
 "cells": [
  {
   "cell_type": "code",
   "execution_count": 11,
   "id": "553f2767-fcdf-4bdf-a607-e382c84c4261",
   "metadata": {},
   "outputs": [
    {
     "name": "stdout",
     "output_type": "stream",
     "text": [
      "\n",
      "Best individual in generation 79 meets fitness threshold - complexity: (3, 5)\n",
      "\n",
      "Best genome:\n",
      "key: 70\n",
      "Fitness: 3.9031306117141793\n",
      "Nodes:\n",
      "\t0 DefaultNodeGene(key=0,bias=-0.21544550688572867)\n",
      "\t4 DefaultNodeGene(key=4,bias=-0.9083762251647716)\n",
      "\t6 DefaultNodeGene(key=6,bias=0.6519844867299847)\n",
      "Connections:\n",
      "\tDefaultConnectionGene(key=(-2, 0),weight=-1.3677630831330583,enabled=True)\n",
      "\tDefaultConnectionGene(key=(-2, 4),weight=2.5522886527348096,enabled=True)\n",
      "\tDefaultConnectionGene(key=(-1, 0),weight=1.1105287848778724,enabled=True)\n",
      "\tDefaultConnectionGene(key=(-1, 4),weight=-6.581044861517955,enabled=True)\n",
      "\tDefaultConnectionGene(key=(-1, 6),weight=1.409250279715442,enabled=False)\n",
      "\tDefaultConnectionGene(key=(4, 0),weight=4.263721271380493,enabled=True)\n",
      "\n",
      "Output:\n",
      "  input (0.0, 0.0), expected output (0.0,), got [0.2989072132152421]\n",
      "  input (0.0, 1.0), expected output (1.0,), got [0.9999984800371576]\n",
      "  input (1.0, 0.0), expected output (1.0,), got [0.988742689549138]\n",
      "  input (1.0, 1.0), expected output (0.0,), got [0.08600662261024639]\n"
     ]
    }
   ],
   "source": [
    "from genome import DefaultGenome\n",
    "from speciation import DefaultSpeciesSet\n",
    "from feedforward import FeedForwardNetwork\n",
    "from reproduction import DefaultReproduction\n",
    "\n",
    "pop_size = 150\n",
    "generation = 0\n",
    "\n",
    "num_inputs = 2\n",
    "num_outputs = 1\n",
    "\n",
    "xor_inputs = [(0.0,0.0),(0.0,1.0),(1.0,0.0),(1.0,1.0)]\n",
    "xor_outputs = [(0.0,),(1.0,),(1.0,),(0.0,)]\n",
    "\n",
    "fitness_threshold = 3.9\n",
    "best_genome = None\n",
    "\n",
    "population = DefaultGenome.create_new(DefaultGenome, pop_size,num_inputs,num_outputs)\n",
    "species = DefaultSpeciesSet()\n",
    "\n",
    "while 1:\n",
    "    species.speciate(population,generation)\n",
    "    FeedForwardNetwork.eval_genomes(list(population.items()),num_inputs,num_outputs,xor_inputs,xor_outputs)\n",
    "    \n",
    "    best = None\n",
    "    for g in population.values():\n",
    "        if best is None or best.fitness < g.fitness:\n",
    "            best = g\n",
    "            \n",
    "    if best_genome is None or best.fitness > best_genome.fitness:\n",
    "        best_genome = best\n",
    "        \n",
    "    fv = max(g.fitness for g in population.values())\n",
    "    if fv >= fitness_threshold or generation == 300:\n",
    "        print('\\nBest individual in generation {0} meets fitness threshold - complexity: {1!r}'.format(generation, best.size()))\n",
    "        break\n",
    "        \n",
    "    popus = DefaultReproduction(num_inputs,num_outputs)\n",
    "    population = popus.reproduce(species,pop_size,generation)\n",
    "    \n",
    "    generation += 1\n",
    "    \n",
    "winner = best_genome\n",
    "print('\\nBest genome:\\n{!s}'.format(winner))\n",
    "print('\\nOutput:')\n",
    "winner_net = FeedForwardNetwork.create(winner,num_inputs,num_outputs)\n",
    "for xi, xo in zip(xor_inputs, xor_outputs):\n",
    "    output = winner_net.activate(xi)\n",
    "    print(\"  input {!r}, expected output {!r}, got {!r}\".format(xi, xo, output))"
   ]
  },
  {
   "cell_type": "code",
   "execution_count": null,
   "id": "f1772100-17a7-42cd-87d8-0e8642feae43",
   "metadata": {},
   "outputs": [],
   "source": []
  },
  {
   "cell_type": "code",
   "execution_count": null,
   "id": "735e27b5-f142-44b4-b7da-ee40e93b231f",
   "metadata": {},
   "outputs": [],
   "source": []
  }
 ],
 "metadata": {
  "kernelspec": {
   "display_name": "Python 3 (ipykernel)",
   "language": "python",
   "name": "python3"
  },
  "language_info": {
   "codemirror_mode": {
    "name": "ipython",
    "version": 3
   },
   "file_extension": ".py",
   "mimetype": "text/x-python",
   "name": "python",
   "nbconvert_exporter": "python",
   "pygments_lexer": "ipython3",
   "version": "3.9.12"
  }
 },
 "nbformat": 4,
 "nbformat_minor": 5
}
